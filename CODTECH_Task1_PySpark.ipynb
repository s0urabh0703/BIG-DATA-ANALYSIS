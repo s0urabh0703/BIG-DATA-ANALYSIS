{
 "cells": [
  {
   "cell_type": "markdown",
   "id": "faffde71",
   "metadata": {},
   "source": [
    "# CODTECH Internship – Task 1\n",
    "\n",
    "## 📊 Big Data Analysis using PySpark\n",
    "\n",
    "**Dataset**: [cities.csv](https://people.sc.fsu.edu/~jburkardt/data/csv/cities.csv)\n",
    "\n",
    "### ✅ Steps Performed:\n",
    "- Loaded and cleaned the dataset\n",
    "- Renamed important columns\n",
    "- Displayed sample rows and schema\n",
    "- Generated basic statistics\n",
    "- Filtered and sorted the data\n",
    "\n",
    "---\n",
    "\n",
    "## 🔍 Key Insights\n",
    "\n",
    "1. The dataset contains city names and their geographic locations in Degrees, Minutes, and Seconds format.\n",
    "2. Renaming and cleaning made the data easier to analyze.\n",
    "3. Cities with Latitude > 40 are mostly in northern U.S. (e.g., New York, Chicago).\n",
    "4. Sorting by Longitude revealed west coast cities like San Francisco.\n",
    "5. PySpark proved efficient for analyzing even structured tabular data.\n",
    "\n",
    "---\n"
   ]
  },
  {
   "cell_type": "code",
   "execution_count": 8,
   "id": "7f82df74",
   "metadata": {},
   "outputs": [],
   "source": [
    "from pyspark.sql import SparkSession\n",
    "\n",
    "# ✅ Start Spark session\n",
    "spark = SparkSession.builder.appName(\"CityDataAnalysis\").getOrCreate()"
   ]
  },
  {
   "cell_type": "code",
   "execution_count": 9,
   "id": "723faccd",
   "metadata": {},
   "outputs": [],
   "source": [
    "# ✅ Load the dataset (make sure cities.csv is in C:/Users/Sanjay/)\n",
    "df = spark.read.csv(\"D:\\\\Project\\\\task1\\\\cities.csv\", header=True, inferSchema=True)"
   ]
  },
  {
   "cell_type": "code",
   "execution_count": 10,
   "id": "56258ff4",
   "metadata": {},
   "outputs": [
    {
     "name": "stdout",
     "output_type": "stream",
     "text": [
      "📌 Original column names:\n",
      "['LatD', ' \"LatM\"', ' \"LatS\"', ' \"NS\"', ' \"LonD\"', ' \"LonM\"', ' \"LonS\"', ' \"EW\"', ' \"City\"', ' \"State\"']\n"
     ]
    }
   ],
   "source": [
    "# ✅ Step 1: Show original column names\n",
    "print(\"📌 Original column names:\")\n",
    "print(df.columns)"
   ]
  },
  {
   "cell_type": "code",
   "execution_count": 11,
   "id": "2f17ae7e",
   "metadata": {},
   "outputs": [],
   "source": [
    "# ✅ Step 2: Clean up column names (remove extra spaces/quotes)\n",
    "df = df.toDF(*[col.strip().replace('\"', '') for col in df.columns])"
   ]
  },
  {
   "cell_type": "code",
   "execution_count": 12,
   "id": "0bd443fa",
   "metadata": {},
   "outputs": [],
   "source": [
    "# ✅ Step 3: Rename columns to readable names\n",
    "df = df.withColumnRenamed(\"LatD\", \"Latitude\").withColumnRenamed(\"LonD\", \"Longitude\")"
   ]
  },
  {
   "cell_type": "code",
   "execution_count": 13,
   "id": "dd4e04d2",
   "metadata": {},
   "outputs": [
    {
     "name": "stdout",
     "output_type": "stream",
     "text": [
      "📌 Preview of dataset:\n",
      "+--------+----+----+----+---------+----+----+----+------------------+-----+\n",
      "|Latitude|LatM|LatS|  NS|Longitude|LonM|LonS|  EW|              City|State|\n",
      "+--------+----+----+----+---------+----+----+----+------------------+-----+\n",
      "|    41.0| 5.0|59.0| \"N\"|     80.0|39.0| 0.0| \"W\"|      \"Youngstown\"|   OH|\n",
      "|    42.0|52.0|48.0| \"N\"|     97.0|23.0|23.0| \"W\"|         \"Yankton\"|   SD|\n",
      "|    46.0|35.0|59.0| \"N\"|    120.0|30.0|36.0| \"W\"|          \"Yakima\"|   WA|\n",
      "|    42.0|16.0|12.0| \"N\"|     71.0|48.0| 0.0| \"W\"|       \"Worcester\"|   MA|\n",
      "|    43.0|37.0|48.0| \"N\"|     89.0|46.0|11.0| \"W\"| \"Wisconsin Dells\"|   WI|\n",
      "+--------+----+----+----+---------+----+----+----+------------------+-----+\n",
      "only showing top 5 rows\n"
     ]
    }
   ],
   "source": [
    "# ✅ Step 4: Show the first few rows\n",
    "print(\"📌 Preview of dataset:\")\n",
    "df.show(5)"
   ]
  },
  {
   "cell_type": "code",
   "execution_count": 14,
   "id": "f16f2225",
   "metadata": {},
   "outputs": [
    {
     "name": "stdout",
     "output_type": "stream",
     "text": [
      "📌 Schema of dataset:\n",
      "root\n",
      " |-- Latitude: double (nullable = true)\n",
      " |-- LatM: double (nullable = true)\n",
      " |-- LatS: double (nullable = true)\n",
      " |-- NS: string (nullable = true)\n",
      " |-- Longitude: double (nullable = true)\n",
      " |-- LonM: double (nullable = true)\n",
      " |-- LonS: double (nullable = true)\n",
      " |-- EW: string (nullable = true)\n",
      " |-- City: string (nullable = true)\n",
      " |-- State: string (nullable = true)\n",
      "\n"
     ]
    }
   ],
   "source": [
    "# ✅ Step 5: Print schema\n",
    "print(\"📌 Schema of dataset:\")\n",
    "df.printSchema()"
   ]
  },
  {
   "cell_type": "code",
   "execution_count": 15,
   "id": "45ae62eb",
   "metadata": {},
   "outputs": [
    {
     "name": "stdout",
     "output_type": "stream",
     "text": [
      "📌 Total number of cities:\n",
      "128\n"
     ]
    }
   ],
   "source": [
    "# ✅ Step 6: Count the number of records\n",
    "print(\"📌 Total number of cities:\")\n",
    "print(df.count())"
   ]
  },
  {
   "cell_type": "code",
   "execution_count": 16,
   "id": "4fe76fc3",
   "metadata": {},
   "outputs": [
    {
     "name": "stdout",
     "output_type": "stream",
     "text": [
      "📌 Summary statistics:\n",
      "+-------+-----------------+-----------------+------------------+----+------------------+------------------+------------------+----+-------------+-----+\n",
      "|summary|         Latitude|             LatM|              LatS|  NS|         Longitude|              LonM|              LonS|  EW|         City|State|\n",
      "+-------+-----------------+-----------------+------------------+----+------------------+------------------+------------------+----+-------------+-----+\n",
      "|  count|              128|              128|               128| 128|               128|               128|               128| 128|          128|  128|\n",
      "|   mean|       38.8203125|        30.765625|        27.4921875|NULL|             93.25|        27.7421875|        26.9609375|NULL|         NULL| NULL|\n",
      "| stddev|5.200595958808149|16.42615754139729|18.977813857217924|NULL|15.466499229793303|16.927937163000344|18.727806747477565|NULL|         NULL| NULL|\n",
      "|    min|             26.0|              1.0|               0.0| \"N\"|              71.0|               0.0|               0.0| \"W\"|    \"Ravenna\"|   AL|\n",
      "|    max|             50.0|             59.0|              59.0| \"N\"|             123.0|              58.0|              59.0| \"W\"| \"Youngstown\"|   WY|\n",
      "+-------+-----------------+-----------------+------------------+----+------------------+------------------+------------------+----+-------------+-----+\n",
      "\n"
     ]
    }
   ],
   "source": [
    "# ✅ Step 7: Describe statistics\n",
    "print(\"📌 Summary statistics:\")\n",
    "df.describe().show()"
   ]
  },
  {
   "cell_type": "code",
   "execution_count": 17,
   "id": "a04cd1ca",
   "metadata": {},
   "outputs": [
    {
     "name": "stdout",
     "output_type": "stream",
     "text": [
      "📌 Cities with Latitude > 40:\n",
      "+--------+----+----+----+---------+----+----+----+------------------+-----+\n",
      "|Latitude|LatM|LatS|  NS|Longitude|LonM|LonS|  EW|              City|State|\n",
      "+--------+----+----+----+---------+----+----+----+------------------+-----+\n",
      "|    41.0| 5.0|59.0| \"N\"|     80.0|39.0| 0.0| \"W\"|      \"Youngstown\"|   OH|\n",
      "|    42.0|52.0|48.0| \"N\"|     97.0|23.0|23.0| \"W\"|         \"Yankton\"|   SD|\n",
      "|    46.0|35.0|59.0| \"N\"|    120.0|30.0|36.0| \"W\"|          \"Yakima\"|   WA|\n",
      "|    42.0|16.0|12.0| \"N\"|     71.0|48.0| 0.0| \"W\"|       \"Worcester\"|   MA|\n",
      "|    43.0|37.0|48.0| \"N\"|     89.0|46.0|11.0| \"W\"| \"Wisconsin Dells\"|   WI|\n",
      "|    49.0|52.0|48.0| \"N\"|     97.0| 9.0| 0.0| \"W\"|        \"Winnipeg\"|   MB|\n",
      "|    48.0| 9.0| 0.0| \"N\"|    103.0|37.0|12.0| \"W\"|       \"Williston\"|   ND|\n",
      "|    41.0|15.0| 0.0| \"N\"|     77.0| 0.0| 0.0| \"W\"|    \"Williamsport\"|   PA|\n",
      "|    47.0|25.0|11.0| \"N\"|    120.0|19.0|11.0| \"W\"|       \"Wenatchee\"|   WA|\n",
      "|    41.0|25.0|11.0| \"N\"|    122.0|23.0|23.0| \"W\"|            \"Weed\"|   CA|\n",
      "|    44.0|57.0|35.0| \"N\"|     89.0|38.0|23.0| \"W\"|          \"Wausau\"|   WI|\n",
      "|    42.0|21.0|36.0| \"N\"|     87.0|49.0|48.0| \"W\"|        \"Waukegan\"|   IL|\n",
      "|    44.0|54.0| 0.0| \"N\"|     97.0| 6.0|36.0| \"W\"|       \"Watertown\"|   SD|\n",
      "|    43.0|58.0|47.0| \"N\"|     75.0|55.0|11.0| \"W\"|       \"Watertown\"|   NY|\n",
      "|    42.0|30.0| 0.0| \"N\"|     92.0|20.0|23.0| \"W\"|        \"Waterloo\"|   IA|\n",
      "|    41.0|32.0|59.0| \"N\"|     73.0| 3.0| 0.0| \"W\"|       \"Waterbury\"|   CT|\n",
      "|    41.0|50.0|59.0| \"N\"|     79.0| 8.0|23.0| \"W\"|          \"Warren\"|   PA|\n",
      "|    46.0| 4.0|11.0| \"N\"|    118.0|19.0|48.0| \"W\"|     \"Walla Walla\"|   WA|\n",
      "|    49.0|16.0|12.0| \"N\"|    123.0| 7.0|12.0| \"W\"|       \"Vancouver\"|   BC|\n",
      "|    46.0|55.0|11.0| \"N\"|     98.0| 0.0|36.0| \"W\"|     \"Valley City\"|   ND|\n",
      "+--------+----+----+----+---------+----+----+----+------------------+-----+\n",
      "only showing top 20 rows\n"
     ]
    }
   ],
   "source": [
    "# ✅ Step 8: Filter cities with Latitude > 40\n",
    "print(\"📌 Cities with Latitude > 40:\")\n",
    "df.filter(df[\"Latitude\"] > 40).show()"
   ]
  },
  {
   "cell_type": "code",
   "execution_count": 18,
   "id": "9235263b",
   "metadata": {},
   "outputs": [
    {
     "name": "stdout",
     "output_type": "stream",
     "text": [
      "📌 Cities sorted by Longitude:\n",
      "+--------+----+----+----+---------+----+----+----+-------------+-----+\n",
      "|Latitude|LatM|LatS|  NS|Longitude|LonM|LonS|  EW|         City|State|\n",
      "+--------+----+----+----+---------+----+----+----+-------------+-----+\n",
      "|    49.0|16.0|12.0| \"N\"|    123.0| 7.0|12.0| \"W\"|  \"Vancouver\"|   BC|\n",
      "|    44.0|56.0|23.0| \"N\"|    123.0| 1.0|47.0| \"W\"|      \"Salem\"|   OR|\n",
      "|    41.0|25.0|11.0| \"N\"|    122.0|23.0|23.0| \"W\"|       \"Weed\"|   CA|\n",
      "|    38.0|26.0|23.0| \"N\"|    122.0|43.0|12.0| \"W\"| \"Santa Rosa\"|   CA|\n",
      "|    47.0|14.0|24.0| \"N\"|    122.0|25.0|48.0| \"W\"|     \"Tacoma\"|   WA|\n",
      "+--------+----+----+----+---------+----+----+----+-------------+-----+\n",
      "only showing top 5 rows\n"
     ]
    }
   ],
   "source": [
    "# ✅ Step 9: Sort by Longitude (descending)\n",
    "print(\"📌 Cities sorted by Longitude:\")\n",
    "df.orderBy(\"Longitude\", ascending=False).show(5)"
   ]
  }
 ],
 "metadata": {
  "kernelspec": {
   "display_name": ".venv (3.10.0)",
   "language": "python",
   "name": "python3"
  },
  "language_info": {
   "codemirror_mode": {
    "name": "ipython",
    "version": 3
   },
   "file_extension": ".py",
   "mimetype": "text/x-python",
   "name": "python",
   "nbconvert_exporter": "python",
   "pygments_lexer": "ipython3",
   "version": "3.10.0"
  }
 },
 "nbformat": 4,
 "nbformat_minor": 5
}
